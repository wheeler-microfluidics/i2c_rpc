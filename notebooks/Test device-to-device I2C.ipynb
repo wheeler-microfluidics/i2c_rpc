{
 "metadata": {
  "name": "",
  "signature": "sha256:efedc3ba20863c074e62bb32d7e36b3f021965a8217493e8dab55a37de2eeb23"
 },
 "nbformat": 3,
 "nbformat_minor": 0,
 "worksheets": [
  {
   "cells": [
    {
     "cell_type": "code",
     "collapsed": false,
     "input": [
      "%%script bash\n",
      "\n",
      "cd $(python -c \"import pkg_resources; print \\\n",
      " pkg_resources.resource_filename('i2c_rpc', '')\")/.. \\\n",
      "&& paver build_firmware \\\n",
      "&& (python -m arduino_helpers.bin.upload -V uno */firmware/uno/*.hex /dev/ttyUSB* )"
     ],
     "language": "python",
     "metadata": {},
     "outputs": [
      {
       "output_type": "stream",
       "stream": "stdout",
       "text": [
        "{'i2c_rpc': ['protobuf/custom.proto',\n",
        "             'protobuf/commands.proto',\n",
        "             'Arduino/i2c_rpc/SConscript',\n",
        "             'Arduino/i2c_rpc/Array.h',\n",
        "             'Arduino/i2c_rpc/RPCBuffer.h',\n",
        "             'Arduino/i2c_rpc/i2c_rpc.ino',\n",
        "             'Arduino/i2c_rpc/Node.h',\n",
        "             'Arduino/i2c_rpc/custom_pb.c',\n",
        "             'Arduino/i2c_rpc/custom_pb.o',\n",
        "             'Arduino/i2c_rpc/custom_pb.h',\n",
        "             'Arduino/i2c_rpc/commands_pb.o',\n",
        "             'Arduino/i2c_rpc/commands_pb.c',\n",
        "             'Arduino/i2c_rpc/temp.h',\n",
        "             'Arduino/i2c_rpc/NodeCommandProcessor.h',\n",
        "             'Arduino/i2c_rpc/commands_pb.h',\n",
        "             'firmware/uno/i2c_rpc.hex']}\n",
        "---> pavement.build_firmware\n",
        "---> pavement.generate_nanopb_code\n",
        "---> pavement.generate_protobuf_definitions\n",
        "---> pavement.generate_pb_python_module\n",
        "---> pavement.generate_command_processor_header\n",
        "---> pavement.generate_rpc_buffer_header\n",
        "scons  ARDUINO_BOARD=\"uno\"\n",
        "scons: Reading SConscript files ...\n",
        "[build-core directory] /home/christian/.virtualenvs/md-x64/src/i2c_rpc/build/arduino/core (True)\n",
        "/home/christian/.virtualenvs/md-x64/src/i2c_rpc/i2c_rpc/Arduino/i2c_rpc i2c_rpc\n",
        "processing kwarg: CPPPATH->[path('/home/christian/.virtualenvs/md-x64/src/i2c_rpc/i2c_rpc/Arduino/i2c_rpc'), path('/home/christian/.virtualenvs/md-x64/src/i2c_rpc/i2c_rpc/protobuf/nano'), path('/home/christian/.virtualenvs/md-x64/src/i2c_rpc/i2c_rpc/libs/nanopb'), '/home/christian/.virtualenvs/md-x64/src/nadamq/nadamq/src']\n",
        "  append to list\n",
        "kwargs: {'CPPPATH': [path('/home/christian/.virtualenvs/md-x64/src/i2c_rpc/i2c_rpc/Arduino/i2c_rpc'), path('/home/christian/.virtualenvs/md-x64/src/i2c_rpc/i2c_rpc/protobuf/nano'), path('/home/christian/.virtualenvs/md-x64/src/i2c_rpc/i2c_rpc/libs/nanopb'), '/home/christian/.virtualenvs/md-x64/src/nadamq/nadamq/src']}\n",
        "env_defaults: {'ASFLAGS': ['-assembler-with-cpp', '-mmcu=atmega328p'], 'CXX': '\"/usr/bin/avr-g++\"', 'CPPDEFINES': {'F_CPU': '16000000L', 'ARDUINO': 100}, 'CC': '\"/usr/bin/avr-gcc\"', 'AS': '\"/usr/bin/avr-gcc\"', 'CCFLAGS': ['-ffunction-sections', '-fdata-sections', '-fno-exceptions', '-funsigned-char', '-funsigned-bitfields', '-fpack-struct', '-fshort-enums', '-Os', '-Wall', '-mmcu=atmega328p', '-L/usr/x86_64-pc-linux-gnu/avr/lib/', '-B/usr/avr/lib/avr5/'], 'CFLAGS': ['-ffunction-sections', '-fdata-sections', '-fno-exceptions', '-funsigned-char', '-funsigned-bitfields', '-fpack-struct', '-fshort-enums', '-Os', '-Wall', '-mmcu=atmega328p', '-L/usr/x86_64-pc-linux-gnu/avr/lib/', '-B/usr/avr/lib/avr5/', '-std=gnu99'], 'CPPPATH': [path('/home/christian/.virtualenvs/md-x64/src/i2c_rpc/build/arduino/core'), '/usr/share/arduino/hardware/arduino/variants/standard', [path('/home/christian/.virtualenvs/md-x64/src/i2c_rpc/i2c_rpc/Arduino/i2c_rpc'), path('/home/christian/.virtualenvs/md-x64/src/i2c_rpc/i2c_rpc/protobuf/nano'), path('/home/christian/.virtualenvs/md-x64/src/i2c_rpc/i2c_rpc/libs/nanopb'), '/home/christian/.virtualenvs/md-x64/src/nadamq/nadamq/src']], 'TOOLS': ['gcc', 'g++', 'as']}\n",
        "{'F_CPU': '16000000L', 'ARDUINO': 100}\n",
        "maximum size for hex file: 32256 bytes\n",
        "\"/usr/bin/avrdude\" -V -F -c arduino -b 115200 -p atmega328p -P None -U flash:w:$SOURCES\n",
        "scons: done reading SConscript files.\n",
        "scons: Building targets ...\n",
        "\"/usr/bin/avr-g++\" -o build/arduino/hex/i2c_rpc.o -c -ffunction-sections -fdata-sections -fno-exceptions -funsigned-char -funsigned-bitfields -fpack-struct -fshort-enums -Os -Wall -mmcu=atmega328p -L/usr/x86_64-pc-linux-gnu/avr/lib/ -B/usr/avr/lib/avr5/ -DARDUINO=100 -DF_CPU=16000000L -Ibuild/arduino/core -I/usr/share/arduino/hardware/arduino/variants/standard -Ii2c_rpc/Arduino/i2c_rpc -Ii2c_rpc/protobuf/nano -Ii2c_rpc/libs/nanopb -I/home/christian/.virtualenvs/md-x64/src/nadamq/nadamq/src -I/usr/share/arduino/libraries/EEPROM -I/usr/share/arduino/libraries/Wire -I/home/christian/sketchbook/libraries/Memory -I/home/christian/sketchbook/libraries/nanopb -I/home/christian/sketchbook/libraries/NadaMQ -I/home/christian/sketchbook/libraries/ArduinoRPC -I/home/christian/sketchbook/libraries/ArduinoRPC -I/home/christian/sketchbook/libraries/NadaMQ -Ibuild/arduino/lib_dir_02/utility build/arduino/hex/i2c_rpc.cpp\n",
        "\"/usr/bin/avr-gcc\" -o i2c_rpc/Arduino/i2c_rpc/custom_pb.o -c -ffunction-sections -fdata-sections -fno-exceptions -funsigned-char -funsigned-bitfields -fpack-struct -fshort-enums -Os -Wall -mmcu=atmega328p -L/usr/x86_64-pc-linux-gnu/avr/lib/ -B/usr/avr/lib/avr5/ -std=gnu99 -ffunction-sections -fdata-sections -fno-exceptions -funsigned-char -funsigned-bitfields -fpack-struct -fshort-enums -Os -Wall -mmcu=atmega328p -L/usr/x86_64-pc-linux-gnu/avr/lib/ -B/usr/avr/lib/avr5/ -DARDUINO=100 -DF_CPU=16000000L -Ibuild/arduino/core -I/usr/share/arduino/hardware/arduino/variants/standard -Ii2c_rpc/Arduino/i2c_rpc -Ii2c_rpc/protobuf/nano -Ii2c_rpc/libs/nanopb -I/home/christian/.virtualenvs/md-x64/src/nadamq/nadamq/src -I/usr/share/arduino/libraries/EEPROM -I/usr/share/arduino/libraries/Wire -I/home/christian/sketchbook/libraries/Memory -I/home/christian/sketchbook/libraries/nanopb -I/home/christian/sketchbook/libraries/NadaMQ -I/home/christian/sketchbook/libraries/ArduinoRPC -I/home/christian/sketchbook/libraries/ArduinoRPC -I/home/christian/sketchbook/libraries/NadaMQ -Ibuild/arduino/lib_dir_02/utility i2c_rpc/Arduino/i2c_rpc/custom_pb.c\n",
        "\"/usr/bin/avr-gcc\" -o i2c_rpc/Arduino/i2c_rpc/commands_pb.o -c -ffunction-sections -fdata-sections -fno-exceptions -funsigned-char -funsigned-bitfields -fpack-struct -fshort-enums -Os -Wall -mmcu=atmega328p -L/usr/x86_64-pc-linux-gnu/avr/lib/ -B/usr/avr/lib/avr5/ -std=gnu99 -ffunction-sections -fdata-sections -fno-exceptions -funsigned-char -funsigned-bitfields -fpack-struct -fshort-enums -Os -Wall -mmcu=atmega328p -L/usr/x86_64-pc-linux-gnu/avr/lib/ -B/usr/avr/lib/avr5/ -DARDUINO=100 -DF_CPU=16000000L -Ibuild/arduino/core -I/usr/share/arduino/hardware/arduino/variants/standard -Ii2c_rpc/Arduino/i2c_rpc -Ii2c_rpc/protobuf/nano -Ii2c_rpc/libs/nanopb -I/home/christian/.virtualenvs/md-x64/src/nadamq/nadamq/src -I/usr/share/arduino/libraries/EEPROM -I/usr/share/arduino/libraries/Wire -I/home/christian/sketchbook/libraries/Memory -I/home/christian/sketchbook/libraries/nanopb -I/home/christian/sketchbook/libraries/NadaMQ -I/home/christian/sketchbook/libraries/ArduinoRPC -I/home/christian/sketchbook/libraries/ArduinoRPC -I/home/christian/sketchbook/libraries/NadaMQ -Ibuild/arduino/lib_dir_02/utility i2c_rpc/Arduino/i2c_rpc/commands_pb.c\n",
        "print_info_action([\"build/arduino/hex/i2c_rpc\"], [\"build/arduino/hex/i2c_rpc.hex\"])\n",
        "* RST_TRIGGER: None (dfl)\n",
        "* ARDUINO_PORT: None (dfl)\n",
        "* ARDUINO_BOARD: uno (arg)\n",
        "* AVR_HOME: /usr/bin/ (dfl)\n",
        "* ARDUINO_VER: 0 (dfl)\n",
        "* SKETCHBOOK_HOME: /home/christian/sketchbook (dfl)\n",
        "* ARDUINO_HOME: /usr/share/arduino/ (dfl)\n",
        "* EXTRA_LIB: None (dfl)\n",
        "* avr-size:\n",
        "/usr/bin/avr-size --target=ihex build/arduino/hex/i2c_rpc.hex\n",
        "   text\t   data\t    bss\t    dec\t    hex\tfilename\n",
        "      0\t  17848\t      0\t  17848\t   45b8\tbuild/arduino/hex/i2c_rpc.hex\n",
        "* maximum size for hex file: 32256 bytes\n",
        "scons: done building targets.\n",
        "# Upload `.hex` #\n",
        "\n",
        "    Board: `uno`\n",
        "      Hex: `i2c_rpc/firmware/uno/i2c_rpc.hex`\n",
        "     Port: `['/dev/ttyUSB2', '/dev/ttyUSB3']`\n",
        "\n"
       ]
      },
      {
       "output_type": "stream",
       "stream": "stderr",
       "text": [
        "Writing to /tmp/nanopbKXVInP/custom.pb.h and /tmp/nanopbKXVInP/custom.pb.c\n",
        "Writing to /tmp/nanopbdYmskS/commands.pb.h and /tmp/nanopbdYmskS/commands.pb.c\n",
        "/home/christian/.virtualenvs/md-x64/src/arduino_rpc/arduino_rpc/proto.py:197: UserWarning: Skipping generation of buffer configuration since file already exists: `/home/christian/.virtualenvs/md-x64/src/i2c_rpc/i2c_rpc/Arduino/i2c_rpc/RPCBuffer.h`\n",
        "  'already exists: `%s`' % output_file)\n",
        "In file included from /home/christian/sketchbook/libraries/NadaMQ/NadaMQ.h:1:0,\n",
        "                 from i2c_rpc/Arduino/i2c_rpc/i2c_rpc.ino:5:\n",
        "/home/christian/sketchbook/libraries/NadaMQ/Packet.h: In member function 'uint16_t PacketBase::compute_crc()':\n",
        "/home/christian/sketchbook/libraries/NadaMQ/Packet.h:65:25: warning: comparison between signed and unsigned integer expressions [-Wsign-compare]\n",
        "     for (int i = 0; i < payload_length_; i++) {\n",
        "                         ^\n",
        "In file included from /home/christian/sketchbook/libraries/ArduinoRPC/ArduinoRPC.h:2:0,\n",
        "                 from i2c_rpc/Arduino/i2c_rpc/i2c_rpc.ino:6:\n",
        "/home/christian/sketchbook/libraries/ArduinoRPC/ArraySerialization.h: In function 'bool write_float_array(pb_ostream_t*, const pb_field_t*, void* const*)':\n",
        "/home/christian/sketchbook/libraries/ArduinoRPC/ArraySerialization.h:59:31: warning: comparison between signed and unsigned integer expressions [-Wsign-compare]\n",
        "     for (int i = 0; i < array.length; i++) {\n",
        "                               ^\n",
        "/home/christian/sketchbook/libraries/ArduinoRPC/ArraySerialization.h:65:31: warning: comparison between signed and unsigned integer expressions [-Wsign-compare]\n",
        "     for (int i = 0; i < array.length; i++) {\n",
        "                               ^\n",
        "/home/christian/sketchbook/libraries/ArduinoRPC/ArraySerialization.h:52:11: warning: unused variable 'value' [-Wunused-variable]\n",
        "     float value;\n",
        "           ^\n",
        "In file included from build/arduino/hex/Node.h:9:0,\n",
        "                 from i2c_rpc/Arduino/i2c_rpc/i2c_rpc.ino:8:\n",
        "/home/christian/sketchbook/libraries/ArduinoRPC/remote_i2c_command.h: In constructor 'i2c_query::i2c_query(UInt8Array)':\n",
        "/home/christian/sketchbook/libraries/ArduinoRPC/remote_i2c_command.h:27:31: warning: extended initializer lists only available with -std=c++11 or -std=gnu++11 [enabled by default]\n",
        "     cached_message_ = {0, NULL};\n",
        "                               ^\n",
        "/home/christian/sketchbook/libraries/ArduinoRPC/remote_i2c_command.h:27:21: warning: extended initializer lists only available with -std=c++11 or -std=gnu++11 [enabled by default]\n",
        "     cached_message_ = {0, NULL};\n",
        "                     ^\n",
        "/home/christian/sketchbook/libraries/ArduinoRPC/remote_i2c_command.h: In member function 'UInt8Array i2c_query::operator()(uint8_t, UInt8Array)':\n",
        "/home/christian/sketchbook/libraries/ArduinoRPC/remote_i2c_command.h:50:26: warning: extended initializer lists only available with -std=c++11 or -std=gnu++11 [enabled by default]\n",
        "       response = {0, NULL};\n",
        "                          ^\n",
        "/home/christian/sketchbook/libraries/ArduinoRPC/remote_i2c_command.h:50:16: warning: extended initializer lists only available with -std=c++11 or -std=gnu++11 [enabled by default]\n",
        "       response = {0, NULL};\n",
        "                ^\n",
        "/home/christian/sketchbook/libraries/ArduinoRPC/remote_i2c_command.h:98:26: warning: extended initializer lists only available with -std=c++11 or -std=gnu++11 [enabled by default]\n",
        "       response = {0, NULL};\n",
        "                          ^\n",
        "/home/christian/sketchbook/libraries/ArduinoRPC/remote_i2c_command.h:98:16: warning: extended initializer lists only available with -std=c++11 or -std=gnu++11 [enabled by default]\n",
        "       response = {0, NULL};\n",
        "                ^\n",
        "/home/christian/sketchbook/libraries/ArduinoRPC/remote_i2c_command.h:107:26: warning: extended initializer lists only available with -std=c++11 or -std=gnu++11 [enabled by default]\n",
        "       response = {0, NULL};\n",
        "                          ^\n",
        "/home/christian/sketchbook/libraries/ArduinoRPC/remote_i2c_command.h:107:16: warning: extended initializer lists only available with -std=c++11 or -std=gnu++11 [enabled by default]\n",
        "       response = {0, NULL};\n",
        "                ^\n",
        "In file included from i2c_rpc/Arduino/i2c_rpc/i2c_rpc.ino:8:0:\n",
        "build/arduino/hex/Node.h: In constructor 'Node::Node()':\n",
        "build/arduino/hex/Node.h:29:22: warning: extended initializer lists only available with -std=c++11 or -std=gnu++11 [enabled by default]\n",
        "   Node() : i2c_query_({sizeof(output_buffer), output_buffer}) {\n",
        "                      ^\n",
        "build/arduino/hex/Node.h:29:61: warning: extended initializer lists only available with -std=c++11 or -std=gnu++11 [enabled by default]\n",
        "   Node() : i2c_query_({sizeof(output_buffer), output_buffer}) {\n",
        "                                                             ^\n",
        "build/arduino/hex/Node.h:31:73: warning: extended initializer lists only available with -std=c++11 or -std=gnu++11 [enabled by default]\n",
        "     i2c_query_.cached_message_ = {sizeof(command_buffer), command_buffer};\n",
        "                                                                         ^\n",
        "build/arduino/hex/Node.h:31:32: warning: extended initializer lists only available with -std=c++11 or -std=gnu++11 [enabled by default]\n",
        "     i2c_query_.cached_message_ = {sizeof(command_buffer), command_buffer};\n",
        "                                ^\n",
        "In file included from i2c_rpc/Arduino/i2c_rpc/i2c_rpc.ino:9:0:\n",
        "build/arduino/hex/NodeCommandProcessor.h: In instantiation of 'class CommandProcessor<Node>':\n",
        "i2c_rpc/Arduino/i2c_rpc/i2c_rpc.ino:23:42:   required from here\n",
        "build/arduino/hex/NodeCommandProcessor.h:23:8: warning: ignoring packed attribute because of unpacked non-POD field 'Node& CommandProcessor<Node>::obj_' [enabled by default]\n",
        "   Obj &obj_;\n",
        "        ^\n",
        "In file included from /home/christian/sketchbook/libraries/ArduinoRPC/ArduinoRPC.h:3:0,\n",
        "                 from i2c_rpc/Arduino/i2c_rpc/i2c_rpc.ino:6:\n",
        "/home/christian/sketchbook/libraries/ArduinoRPC/CommandPacketHandler.h: In instantiation of 'class CommandPacketHandler<Stream, CommandProcessor<Node> >':\n",
        "i2c_rpc/Arduino/i2c_rpc/i2c_rpc.ino:34:17:   required from here\n",
        "/home/christian/sketchbook/libraries/ArduinoRPC/CommandPacketHandler.h:57:12: warning: ignoring packed attribute because of unpacked non-POD field 'Stream& CommandPacketHandler<Stream, CommandProcessor<Node> >::ostream_' [enabled by default]\n",
        "   OStream &ostream_;\n",
        "            ^\n",
        "/home/christian/sketchbook/libraries/ArduinoRPC/CommandPacketHandler.h:58:21: warning: ignoring packed attribute because of unpacked non-POD field 'CommandProcessor<Node>& CommandPacketHandler<Stream, CommandProcessor<Node> >::command_processor_' [enabled by default]\n",
        "   CommandProcessor &command_processor_;\n",
        "                     ^\n",
        "In file included from /home/christian/sketchbook/libraries/NadaMQ/PacketHandler.h:13:0,\n",
        "                 from /home/christian/sketchbook/libraries/NadaMQ/packet_handler.h:5,\n",
        "                 from /home/christian/sketchbook/libraries/ArduinoRPC/ArduinoRPC.h:5,\n",
        "                 from i2c_rpc/Arduino/i2c_rpc/i2c_rpc.ino:6:\n",
        "/home/christian/sketchbook/libraries/NadaMQ/StreamPacketParser.h: In instantiation of 'class StreamPacketParser<PacketParser<FixedPacket>, Stream>':\n",
        "/home/christian/sketchbook/libraries/NadaMQ/PacketHandler.h:17:7:   required from 'class PacketHandlerBase<PacketParser<FixedPacket>, Stream>'\n",
        "/home/christian/sketchbook/libraries/NadaMQ/packet_handler.h:10:7:   required from 'class PacketReactor<PacketParser<FixedPacket>, Stream, CommandPacketHandler<Stream, CommandProcessor<Node> > >'\n",
        "i2c_rpc/Arduino/i2c_rpc/i2c_rpc.ino:37:17:   required from here\n",
        "/home/christian/sketchbook/libraries/NadaMQ/StreamPacketParser.h:35:11: warning: ignoring packed attribute because of unpacked non-POD field 'PacketParser<FixedPacket>& StreamPacketParser<PacketParser<FixedPacket>, Stream>::parser_' [enabled by default]\n",
        "   Parser &parser_;\n",
        "           ^\n",
        "/home/christian/sketchbook/libraries/NadaMQ/StreamPacketParser.h:36:11: warning: ignoring packed attribute because of unpacked non-POD field 'Stream& StreamPacketParser<PacketParser<FixedPacket>, Stream>::stream_' [enabled by default]\n",
        "   Stream &stream_;\n",
        "           ^\n",
        "In file included from /home/christian/sketchbook/libraries/ArduinoRPC/ArduinoRPC.h:5:0,\n",
        "                 from i2c_rpc/Arduino/i2c_rpc/i2c_rpc.ino:6:\n",
        "/home/christian/sketchbook/libraries/NadaMQ/packet_handler.h: In instantiation of 'class PacketReactor<PacketParser<FixedPacket>, Stream, CommandPacketHandler<Stream, CommandProcessor<Node> > >':\n",
        "i2c_rpc/Arduino/i2c_rpc/i2c_rpc.ino:37:17:   required from here\n",
        "/home/christian/sketchbook/libraries/NadaMQ/packet_handler.h:48:12: warning: ignoring packed attribute because of unpacked non-POD field 'CommandPacketHandler<Stream, CommandProcessor<Node> >& PacketReactor<PacketParser<FixedPacket>, Stream, CommandPacketHandler<Stream, CommandProcessor<Node> > >::handler_' [enabled by default]\n",
        "   Handler &handler_;\n",
        "            ^\n",
        "In file included from i2c_rpc/Arduino/i2c_rpc/i2c_rpc.ino:9:0:\n",
        "build/arduino/hex/NodeCommandProcessor.h: In instantiation of 'int CommandProcessor<Obj>::process_command(uint16_t, uint16_t, uint8_t*) [with Obj = Node; uint16_t = unsigned int; uint8_t = unsigned char]':\n",
        "/home/christian/sketchbook/libraries/ArduinoRPC/CommandPacketHandler.h:27:68:   required from 'void process_packet_with_processor(Packet&, Processor&) [with Packet = FixedPacket; Processor = CommandProcessor<Node>]'\n",
        "i2c_rpc/Arduino/i2c_rpc/i2c_rpc.ino:69:64:   required from here\n",
        "build/arduino/hex/NodeCommandProcessor.h:110:13: warning: unused variable 'i2c_count' [-Wunused-variable]\n",
        "     uint8_t i2c_count = 0;\n",
        "             ^\n",
        "In file included from /home/christian/sketchbook/libraries/ArduinoRPC/ArduinoRPC.h:2:0,\n",
        "                 from i2c_rpc/Arduino/i2c_rpc/i2c_rpc.ino:6:\n",
        "/home/christian/sketchbook/libraries/ArduinoRPC/ArraySerialization.h: At global scope:\n",
        "/home/christian/sketchbook/libraries/ArduinoRPC/ArraySerialization.h:22:13: warning: 'bool read_byte_array(pb_istream_t*, const pb_field_t*, void**)' defined but not used [-Wunused-function]\n",
        " static bool read_byte_array(pb_istream_t *stream, const pb_field_t *field,\n",
        "             ^\n",
        "/home/christian/sketchbook/libraries/ArduinoRPC/ArraySerialization.h:49:13: warning: 'bool write_float_array(pb_ostream_t*, const pb_field_t*, void* const*)' defined but not used [-Wunused-function]\n",
        " static bool write_float_array(pb_ostream_t *stream, const pb_field_t *field,\n",
        "             ^\n",
        "\n",
        "avrdude: AVR device initialized and ready to accept instructions\n",
        "\n",
        "Reading | ################################################## | 100% 0.00s\n",
        "\n",
        "avrdude: Device signature = 0x1e950f\n",
        "avrdude: reading input file \"/home/christian/.virtualenvs/md-x64/src/i2c_rpc/i2c_rpc/firmware/uno/i2c_rpc.hex\"\n",
        "avrdude: writing flash (17848 bytes):\n",
        "\n",
        "Writing | ################################################## | 100% 2.52s\n",
        "\n",
        "avrdude: 17848 bytes of flash written\n",
        "\n",
        "avrdude done.  Thank you.\n",
        "\n",
        "\n",
        "avrdude: AVR device initialized and ready to accept instructions\n",
        "\n",
        "Reading | ################################################## | 100% 0.00s\n",
        "\n",
        "avrdude: Device signature = 0x1e950f\n",
        "avrdude: reading input file \"/home/christian/.virtualenvs/md-x64/src/i2c_rpc/i2c_rpc/firmware/uno/i2c_rpc.hex\"\n",
        "avrdude: writing flash (17848 bytes):\n",
        "\n",
        "Writing | ################################################## | 100% 2.52s\n",
        "\n",
        "avrdude: 17848 bytes of flash written\n",
        "\n",
        "avrdude done.  Thank you.\n",
        "\n"
       ]
      }
     ],
     "prompt_number": 1
    },
    {
     "cell_type": "code",
     "collapsed": false,
     "input": [
      "%load_ext autoreload\n",
      "%autoreload 2"
     ],
     "language": "python",
     "metadata": {},
     "outputs": [],
     "prompt_number": 2
    },
    {
     "cell_type": "code",
     "collapsed": false,
     "input": [
      "from collections import OrderedDict\n",
      "import numpy as np\n",
      "import serial_device\n",
      "import i2c_rpc.board\n",
      "\n",
      "\n",
      "ports = list(serial_device.get_serial_ports())\n",
      "\n",
      "devices = OrderedDict([(port, i2c_rpc.board.I2CBoard(port=port))\n",
      "                       for port in ports])\n",
      "\n",
      "# i2c_local = i2c_rpc.board.I2CBoard(port=port)\n",
      "# i2c_devices = np.fromstring(i2c_local.i2c_scan(),\n",
      "#                             dtype=np.uint8).astype(int)\n",
      "# assert(len(i2c_devices) == 1)\n",
      "# i2c_remote = i2c_rpc.board.RemoteI2CBoard(i2c_local, i2c_devices[0])"
     ],
     "language": "python",
     "metadata": {},
     "outputs": [
      {
       "output_type": "stream",
       "stream": "stdout",
       "text": [
        "\n",
        "free memory:"
       ]
      },
      {
       "output_type": "stream",
       "stream": "stdout",
       "text": [
        " 141\n"
       ]
      },
      {
       "output_type": "stream",
       "stream": "stdout",
       "text": [
        "\n",
        "free memory:"
       ]
      },
      {
       "output_type": "stream",
       "stream": "stdout",
       "text": [
        " 141\n"
       ]
      }
     ],
     "prompt_number": 3
    },
    {
     "cell_type": "code",
     "collapsed": false,
     "input": [
      "from IPython.display import display"
     ],
     "language": "python",
     "metadata": {},
     "outputs": [],
     "prompt_number": 4
    },
    {
     "cell_type": "code",
     "collapsed": false,
     "input": [
      "d0 = devices.values()[0]\n",
      "d1 = devices.values()[1]\n",
      "i2c_devices = np.fromstring(d0.i2c_scan(), dtype=np.uint8).astype(int)\n",
      "d1r = i2c_rpc.board.RemoteI2CBoard(d0, i2c_devices[0])"
     ],
     "language": "python",
     "metadata": {},
     "outputs": [],
     "prompt_number": 5
    },
    {
     "cell_type": "code",
     "collapsed": false,
     "input": [
      "request_str = d0._command_request_manager.request('EchoStr',\n",
      "                                                  msg='hello, world!')\n",
      "response_str = d0.do_i2c_query(address=0x10, msg=request_str)\n",
      "display(response_str)\n",
      "display(d0._command_request_manager.response(response_str))"
     ],
     "language": "python",
     "metadata": {},
     "outputs": [
      {
       "metadata": {},
       "output_type": "display_data",
       "text": [
        "'\\x82\\x01\\x0f\\n\\rhello, world!'"
       ]
      },
      {
       "metadata": {},
       "output_type": "display_data",
       "text": [
        "'hello, world!'"
       ]
      }
     ],
     "prompt_number": 6
    },
    {
     "cell_type": "code",
     "collapsed": false,
     "input": [
      "request_str = d0._command_request_manager.request('EchoInt32',\n",
      "                                                  value=1135134)\n",
      "response_str = d0.do_i2c_query(address=0x10, msg=request_str)\n",
      "display(response_str)\n",
      "display(d0._command_request_manager.response(response_str))"
     ],
     "language": "python",
     "metadata": {},
     "outputs": [
      {
       "metadata": {},
       "output_type": "display_data",
       "text": [
        "'\\xaa\\x01\\x05\\x08\\xbc\\xc8\\x8a\\x01'"
       ]
      },
      {
       "metadata": {},
       "output_type": "display_data",
       "text": [
        "1135134"
       ]
      }
     ],
     "prompt_number": 7
    }
   ],
   "metadata": {}
  }
 ]
}